{
 "cells": [
  {
   "cell_type": "code",
   "execution_count": 38,
   "metadata": {},
   "outputs": [],
   "source": [
    "import pandas as pd\n",
    "import numpy as np\n",
    "import matplotlib.pyplot as plt\n",
    "import seaborn as sns\n",
    "import re"
   ]
  },
  {
   "cell_type": "code",
   "execution_count": null,
   "metadata": {},
   "outputs": [],
   "source": [
    "input_text = \"The job was so mind-numbing that human employees said they were looking forward to being replaced by bots. Advertisement In 2017, the business expense management app Expensify admitted that it had been using humans to transcribe at least some of the receipts it claimed to process using its “smartscan technology”. Scans of the receipts were being posted to Amazon’s Mechanical Turk crowdsourced labour tool, where low-paid workers were reading and transcribing them. “I wonder if Expensify SmartScan users know MTurk workers enter their receipts,” said Rochelle LaPlante, a “Turker” and advocate for gig economy workers on Twitter. “I’m looking at someone’s Uber receipt with their full name, pick-up and drop-off addresses.”\""
   ]
  },
  {
   "cell_type": "code",
   "execution_count": 142,
   "metadata": {},
   "outputs": [
    {
     "data": {
      "text/html": [
       "<div>\n",
       "<style scoped>\n",
       "    .dataframe tbody tr th:only-of-type {\n",
       "        vertical-align: middle;\n",
       "    }\n",
       "\n",
       "    .dataframe tbody tr th {\n",
       "        vertical-align: top;\n",
       "    }\n",
       "\n",
       "    .dataframe thead th {\n",
       "        text-align: right;\n",
       "    }\n",
       "</style>\n",
       "<table border=\"1\" class=\"dataframe\">\n",
       "  <thead>\n",
       "    <tr style=\"text-align: right;\">\n",
       "      <th></th>\n",
       "      <th>name</th>\n",
       "      <th>type</th>\n",
       "      <th>text</th>\n",
       "    </tr>\n",
       "  </thead>\n",
       "  <tbody>\n",
       "    <tr>\n",
       "      <th>0</th>\n",
       "      <td>Darya</td>\n",
       "      <td>ESFP</td>\n",
       "      <td>Quarantine expectations. Swipe for reality 22 ...</td>\n",
       "    </tr>\n",
       "    <tr>\n",
       "      <th>0</th>\n",
       "      <td>Theresa</td>\n",
       "      <td>ENFP</td>\n",
       "      <td>light times simplicité. chapter 1 *waiter pour...</td>\n",
       "    </tr>\n",
       "    <tr>\n",
       "      <th>0</th>\n",
       "      <td>Nico</td>\n",
       "      <td>ENFP</td>\n",
       "      <td>Haven't posted in a while, so this random pict...</td>\n",
       "    </tr>\n",
       "    <tr>\n",
       "      <th>0</th>\n",
       "      <td>Katie</td>\n",
       "      <td>INFJ</td>\n",
       "      <td>Sonndorf VI #autumn #fall #colors #igersaustri...</td>\n",
       "    </tr>\n",
       "    <tr>\n",
       "      <th>0</th>\n",
       "      <td>Dylan</td>\n",
       "      <td>ENTJ</td>\n",
       "      <td>Happy golden Birthday Kayla! 22 years on Earth...</td>\n",
       "    </tr>\n",
       "    <tr>\n",
       "      <th>0</th>\n",
       "      <td>Gustav</td>\n",
       "      <td>ISFJ</td>\n",
       "      <td>optiimal GNTM watching with the best #teammaur...</td>\n",
       "    </tr>\n",
       "    <tr>\n",
       "      <th>0</th>\n",
       "      <td>Jonas</td>\n",
       "      <td>ESFJ</td>\n",
       "      <td>Hanging Tree When in Rome  @vivi.duenwald Shou...</td>\n",
       "    </tr>\n",
       "  </tbody>\n",
       "</table>\n",
       "</div>"
      ],
      "text/plain": [
       "      name  type                                               text\n",
       "0    Darya  ESFP  Quarantine expectations. Swipe for reality 22 ...\n",
       "0  Theresa  ENFP  light times simplicité. chapter 1 *waiter pour...\n",
       "0     Nico  ENFP  Haven't posted in a while, so this random pict...\n",
       "0    Katie  INFJ  Sonndorf VI #autumn #fall #colors #igersaustri...\n",
       "0    Dylan  ENTJ  Happy golden Birthday Kayla! 22 years on Earth...\n",
       "0   Gustav  ISFJ  optiimal GNTM watching with the best #teammaur...\n",
       "0    Jonas  ESFJ  Hanging Tree When in Rome  @vivi.duenwald Shou..."
      ]
     },
     "execution_count": 142,
     "metadata": {},
     "output_type": "execute_result"
    }
   ],
   "source": [
    "input_text"
   ]
  },
  {
   "cell_type": "code",
   "execution_count": 143,
   "metadata": {},
   "outputs": [],
   "source": [
    "input_text = input_text.copy()"
   ]
  },
  {
   "cell_type": "code",
   "execution_count": 54,
   "metadata": {},
   "outputs": [],
   "source": [
    "import nltk\n",
    "from nltk.stem import PorterStemmer\n",
    "from nltk.stem import SnowballStemmer\n",
    "from nltk import wordnet\n",
    "from nltk.corpus import stopwords\n",
    "from nltk.sentiment.vader import SentimentIntensityAnalyzer\n",
    "from sklearn.model_selection import train_test_split, cross_val_score\n",
    "from sklearn.metrics import classification_report\n",
    "from sklearn.metrics import confusion_matrix, accuracy_score, roc_auc_score, roc_curve\n",
    "\n",
    "from sklearn.model_selection import train_test_split, cross_val_score\n",
    "from sklearn.model_selection import cross_validate\n",
    "from sklearn.model_selection import StratifiedKFold\n",
    "from sklearn.linear_model import LogisticRegression\n",
    "from sklearn.model_selection import learning_curve\n",
    "from sklearn.ensemble import ExtraTreesClassifier\n",
    "from sklearn.decomposition import TruncatedSVD\n",
    "from sklearn.feature_extraction.text import TfidfVectorizer, CountVectorizer\n",
    "from sklearn.pipeline import Pipeline\n",
    "from sklearn.naive_bayes import MultinomialNB\n",
    "from sklearn.metrics import classification_report\n",
    "from sklearn.metrics import confusion_matrix, accuracy_score, roc_auc_score, roc_curve"
   ]
  },
  {
   "cell_type": "code",
   "execution_count": null,
   "metadata": {},
   "outputs": [],
   "source": []
  },
  {
   "cell_type": "markdown",
   "metadata": {},
   "source": [
    "## Data Prepping"
   ]
  },
  {
   "cell_type": "code",
   "execution_count": 55,
   "metadata": {},
   "outputs": [],
   "source": [
    "def processed(x):\n",
    "    pattern = r'''(?i)\\b((?:https?://|www\\d{0,3}[.]|[a-z0-9.\\-]+[.][a-z]{2,4}/)(?:[^\\s()<>]+|\\(([^\\s()<>]+|(\\([^\\s()<>]+\\)))*\\))+(?:\\(([^\\s()<>]+|(\\([^\\s()<>]+\\)))*\\)|[^\\s`!()\\[\\]{};:'\".,<>?«»“”‘’]))'''\n",
    "    cleaned = re.sub(pattern, ' ', str(x)) \n",
    "    cleaned = re.sub(r\"[^A-Za-z0-9]+\", \" \", cleaned)\n",
    "    cleaned = re.sub(\" \\d+\", \" \", cleaned)\n",
    "    cleaned = cleaned.lower().strip()\n",
    "\n",
    "    pattern2 = '\\w{1,}'\n",
    "    bag = re.findall(pattern2, cleaned)\n",
    "\n",
    "    porter = PorterStemmer()\n",
    "    porter_bag = [porter.stem(word) for word in bag]\n",
    "\n",
    "    lemmatizer = wordnet.WordNetLemmatizer()\n",
    "    bag_of_words = [lemmatizer.lemmatize(word) for word in porter_bag]\n",
    "\n",
    "    stopwords_e = stopwords.words('english')\n",
    "    bag_of_words = [word for word in bag_of_words if word not in stopwords_e]\n",
    "\n",
    "    return bag_of_words"
   ]
  },
  {
   "cell_type": "code",
   "execution_count": 56,
   "metadata": {},
   "outputs": [],
   "source": [
    "text_processed = [processed(i) for i in input_text.text]"
   ]
  },
  {
   "cell_type": "code",
   "execution_count": 57,
   "metadata": {},
   "outputs": [],
   "source": [
    "input_text['text_processed'] = text_processed\n"
   ]
  },
  {
   "cell_type": "code",
   "execution_count": 58,
   "metadata": {},
   "outputs": [
    {
     "data": {
      "text/html": [
       "<div>\n",
       "<style scoped>\n",
       "    .dataframe tbody tr th:only-of-type {\n",
       "        vertical-align: middle;\n",
       "    }\n",
       "\n",
       "    .dataframe tbody tr th {\n",
       "        vertical-align: top;\n",
       "    }\n",
       "\n",
       "    .dataframe thead th {\n",
       "        text-align: right;\n",
       "    }\n",
       "</style>\n",
       "<table border=\"1\" class=\"dataframe\">\n",
       "  <thead>\n",
       "    <tr style=\"text-align: right;\">\n",
       "      <th></th>\n",
       "      <th>name</th>\n",
       "      <th>type</th>\n",
       "      <th>text_ready</th>\n",
       "    </tr>\n",
       "  </thead>\n",
       "  <tbody>\n",
       "    <tr>\n",
       "      <th>0</th>\n",
       "      <td>Darya</td>\n",
       "      <td>ESFP</td>\n",
       "      <td>quarantin expect swipe realiti swipe see photo...</td>\n",
       "    </tr>\n",
       "    <tr>\n",
       "      <th>0</th>\n",
       "      <td>Theresa</td>\n",
       "      <td>ENFP</td>\n",
       "      <td>light time simplicit chapter waiter pour wine ...</td>\n",
       "    </tr>\n",
       "    <tr>\n",
       "      <th>0</th>\n",
       "      <td>Nico</td>\n",
       "      <td>ENFP</td>\n",
       "      <td>post thi random pictur fill void go within lot...</td>\n",
       "    </tr>\n",
       "    <tr>\n",
       "      <th>0</th>\n",
       "      <td>Katie</td>\n",
       "      <td>INFJ</td>\n",
       "      <td>sonndorf vi autumn fall color igersaustria out...</td>\n",
       "    </tr>\n",
       "    <tr>\n",
       "      <th>0</th>\n",
       "      <td>Dylan</td>\n",
       "      <td>ENTJ</td>\n",
       "      <td>happi golden birthday kayla year earth photo s...</td>\n",
       "    </tr>\n",
       "    <tr>\n",
       "      <th>0</th>\n",
       "      <td>Gustav</td>\n",
       "      <td>ISFJ</td>\n",
       "      <td>optiim gntm watch best teammaureen lovemaureen...</td>\n",
       "    </tr>\n",
       "    <tr>\n",
       "      <th>0</th>\n",
       "      <td>Jonas</td>\n",
       "      <td>ESFJ</td>\n",
       "      <td>hang tree rome vivi duenwald shoutout best fam...</td>\n",
       "    </tr>\n",
       "  </tbody>\n",
       "</table>\n",
       "</div>"
      ],
      "text/plain": [
       "      name  type                                         text_ready\n",
       "0    Darya  ESFP  quarantin expect swipe realiti swipe see photo...\n",
       "0  Theresa  ENFP  light time simplicit chapter waiter pour wine ...\n",
       "0     Nico  ENFP  post thi random pictur fill void go within lot...\n",
       "0    Katie  INFJ  sonndorf vi autumn fall color igersaustria out...\n",
       "0    Dylan  ENTJ  happi golden birthday kayla year earth photo s...\n",
       "0   Gustav  ISFJ  optiim gntm watch best teammaureen lovemaureen...\n",
       "0    Jonas  ESFJ  hang tree rome vivi duenwald shoutout best fam..."
      ]
     },
     "execution_count": 58,
     "metadata": {},
     "output_type": "execute_result"
    }
   ],
   "source": [
    "input_text['text_ready'] = input_text.text_processed.apply(' '.join)\n",
    "input_text = input_text.drop(columns = ['text', 'text_processed'])\n",
    "input_text"
   ]
  },
  {
   "cell_type": "markdown",
   "metadata": {},
   "source": [
    "## Runnin model"
   ]
  },
  {
   "cell_type": "code",
   "execution_count": 90,
   "metadata": {},
   "outputs": [],
   "source": [
    "import joblib"
   ]
  },
  {
   "cell_type": "code",
   "execution_count": 91,
   "metadata": {},
   "outputs": [],
   "source": [
    "IE = joblib.load('RF_IE.sav')\n",
    "NS = joblib.load('RF_NS.sav')\n",
    "TF = joblib.load('RF_TF.sav')\n",
    "JP = joblib.load('RF_JP.sav')"
   ]
  },
  {
   "cell_type": "code",
   "execution_count": 92,
   "metadata": {},
   "outputs": [],
   "source": [
    "IE_result = IE.score(X, y_IE)\n",
    "print(\"IE result is: \", IE_result)\n",
    "\n",
    "NS_result = NS.score(X, y_NS)\n",
    "print(\"NS result is: \", NS_result)\n",
    "\n",
    "TF_result = TF.score(X, y_TF)\n",
    "print(\"TF result is: \", TF_result)\n",
    "\n",
    "JP_result = JP.score(X, y_JP)\n",
    "print(\"JP result is: \", JF_result)"
   ]
  },
  {
   "cell_type": "markdown",
   "metadata": {},
   "source": [
    "## Display results"
   ]
  },
  {
   "cell_type": "code",
   "execution_count": 104,
   "metadata": {},
   "outputs": [],
   "source": [
    "rldata2 = rldata.copy()"
   ]
  },
  {
   "cell_type": "code",
   "execution_count": 113,
   "metadata": {},
   "outputs": [],
   "source": [
    "rldata2['y_test_IE'] = list(y_test_IE)\n",
    "rldata2['predrfn_IE'] = predrfn_IE\n",
    "rldata2['y_test_NS'] = list(y_test_NS)\n",
    "rldata2['predrfn_NS'] = predrfn_NS\n",
    "rldata2['y_test_TF'] = list(y_test_TF)\n",
    "rldata2['predrfn_TF'] = predrfn_TF\n",
    "rldata2['y_test_JP'] = list(y_test_JP)\n",
    "rldata2['predrfn_JP'] = predrfn_JP"
   ]
  },
  {
   "cell_type": "code",
   "execution_count": 117,
   "metadata": {},
   "outputs": [
    {
     "data": {
      "text/html": [
       "<div>\n",
       "<style scoped>\n",
       "    .dataframe tbody tr th:only-of-type {\n",
       "        vertical-align: middle;\n",
       "    }\n",
       "\n",
       "    .dataframe tbody tr th {\n",
       "        vertical-align: top;\n",
       "    }\n",
       "\n",
       "    .dataframe thead th {\n",
       "        text-align: right;\n",
       "    }\n",
       "</style>\n",
       "<table border=\"1\" class=\"dataframe\">\n",
       "  <thead>\n",
       "    <tr style=\"text-align: right;\">\n",
       "      <th></th>\n",
       "      <th>type</th>\n",
       "      <th>text_ready</th>\n",
       "      <th>I-E</th>\n",
       "      <th>N-S</th>\n",
       "      <th>T-F</th>\n",
       "      <th>J-P</th>\n",
       "      <th>predrfn_IE</th>\n",
       "      <th>predrfn_NS</th>\n",
       "      <th>predrfn_TF</th>\n",
       "      <th>predrfn_JP</th>\n",
       "    </tr>\n",
       "  </thead>\n",
       "  <tbody>\n",
       "    <tr>\n",
       "      <th>0</th>\n",
       "      <td>ESFP</td>\n",
       "      <td>quarantin expect swipe realiti swipe see photo...</td>\n",
       "      <td>E</td>\n",
       "      <td>S</td>\n",
       "      <td>F</td>\n",
       "      <td>P</td>\n",
       "      <td>I</td>\n",
       "      <td>N</td>\n",
       "      <td>T</td>\n",
       "      <td>P</td>\n",
       "    </tr>\n",
       "    <tr>\n",
       "      <th>0</th>\n",
       "      <td>ENFP</td>\n",
       "      <td>light time simplicit chapter waiter pour wine ...</td>\n",
       "      <td>E</td>\n",
       "      <td>N</td>\n",
       "      <td>F</td>\n",
       "      <td>P</td>\n",
       "      <td>I</td>\n",
       "      <td>N</td>\n",
       "      <td>F</td>\n",
       "      <td>P</td>\n",
       "    </tr>\n",
       "    <tr>\n",
       "      <th>0</th>\n",
       "      <td>ENFP</td>\n",
       "      <td>post thi random pictur fill void go within lot...</td>\n",
       "      <td>E</td>\n",
       "      <td>N</td>\n",
       "      <td>F</td>\n",
       "      <td>P</td>\n",
       "      <td>I</td>\n",
       "      <td>N</td>\n",
       "      <td>T</td>\n",
       "      <td>P</td>\n",
       "    </tr>\n",
       "    <tr>\n",
       "      <th>0</th>\n",
       "      <td>INFJ</td>\n",
       "      <td>sonndorf vi autumn fall color igersaustria out...</td>\n",
       "      <td>I</td>\n",
       "      <td>N</td>\n",
       "      <td>F</td>\n",
       "      <td>J</td>\n",
       "      <td>I</td>\n",
       "      <td>N</td>\n",
       "      <td>F</td>\n",
       "      <td>P</td>\n",
       "    </tr>\n",
       "    <tr>\n",
       "      <th>0</th>\n",
       "      <td>ENTJ</td>\n",
       "      <td>happi golden birthday kayla year earth photo s...</td>\n",
       "      <td>E</td>\n",
       "      <td>N</td>\n",
       "      <td>T</td>\n",
       "      <td>J</td>\n",
       "      <td>I</td>\n",
       "      <td>N</td>\n",
       "      <td>T</td>\n",
       "      <td>P</td>\n",
       "    </tr>\n",
       "    <tr>\n",
       "      <th>0</th>\n",
       "      <td>ISFJ</td>\n",
       "      <td>optiim gntm watch best teammaureen lovemaureen...</td>\n",
       "      <td>I</td>\n",
       "      <td>S</td>\n",
       "      <td>F</td>\n",
       "      <td>J</td>\n",
       "      <td>I</td>\n",
       "      <td>N</td>\n",
       "      <td>T</td>\n",
       "      <td>P</td>\n",
       "    </tr>\n",
       "    <tr>\n",
       "      <th>0</th>\n",
       "      <td>ESFJ</td>\n",
       "      <td>hang tree rome vivi duenwald shoutout best fam...</td>\n",
       "      <td>E</td>\n",
       "      <td>S</td>\n",
       "      <td>F</td>\n",
       "      <td>J</td>\n",
       "      <td>I</td>\n",
       "      <td>N</td>\n",
       "      <td>T</td>\n",
       "      <td>P</td>\n",
       "    </tr>\n",
       "  </tbody>\n",
       "</table>\n",
       "</div>"
      ],
      "text/plain": [
       "   type                                         text_ready I-E N-S T-F J-P  \\\n",
       "0  ESFP  quarantin expect swipe realiti swipe see photo...   E   S   F   P   \n",
       "0  ENFP  light time simplicit chapter waiter pour wine ...   E   N   F   P   \n",
       "0  ENFP  post thi random pictur fill void go within lot...   E   N   F   P   \n",
       "0  INFJ  sonndorf vi autumn fall color igersaustria out...   I   N   F   J   \n",
       "0  ENTJ  happi golden birthday kayla year earth photo s...   E   N   T   J   \n",
       "0  ISFJ  optiim gntm watch best teammaureen lovemaureen...   I   S   F   J   \n",
       "0  ESFJ  hang tree rome vivi duenwald shoutout best fam...   E   S   F   J   \n",
       "\n",
       "  predrfn_IE predrfn_NS predrfn_TF predrfn_JP  \n",
       "0          I          N          T          P  \n",
       "0          I          N          F          P  \n",
       "0          I          N          T          P  \n",
       "0          I          N          F          P  \n",
       "0          I          N          T          P  \n",
       "0          I          N          T          P  \n",
       "0          I          N          T          P  "
      ]
     },
     "execution_count": 117,
     "metadata": {},
     "output_type": "execute_result"
    }
   ],
   "source": [
    "rldata2"
   ]
  }
 ],
 "metadata": {
  "kernelspec": {
   "display_name": "Python 3",
   "language": "python",
   "name": "python3"
  },
  "language_info": {
   "codemirror_mode": {
    "name": "ipython",
    "version": 3
   },
   "file_extension": ".py",
   "mimetype": "text/x-python",
   "name": "python",
   "nbconvert_exporter": "python",
   "pygments_lexer": "ipython3",
   "version": "3.7.6"
  }
 },
 "nbformat": 4,
 "nbformat_minor": 2
}
